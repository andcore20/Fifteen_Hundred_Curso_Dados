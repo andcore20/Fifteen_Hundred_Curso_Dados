{
  "cells": [
    {
      "cell_type": "markdown",
      "metadata": {
        "id": "view-in-github",
        "colab_type": "text"
      },
      "source": [
        "<a href=\"https://colab.research.google.com/github/andcore20/Fifteen_Hundred_Curso_Dados/blob/main/spark_treat_databricks.ipynb\" target=\"_parent\"><img src=\"https://colab.research.google.com/assets/colab-badge.svg\" alt=\"Open In Colab\"/></a>"
      ]
    },
    {
      "cell_type": "markdown",
      "metadata": {
        "application/vnd.databricks.v1+cell": {
          "cellMetadata": {
            "byteLimit": 2048000,
            "rowLimit": 10000
          },
          "inputWidgets": {},
          "nuid": "1b86c241-e4f6-454d-a15d-ff6e1d21b1cb",
          "showTitle": false,
          "title": ""
        },
        "id": "X9oMiIaupDZ9"
      },
      "source": [
        "#1. Importar bibliotecas"
      ]
    },
    {
      "cell_type": "code",
      "execution_count": null,
      "metadata": {
        "application/vnd.databricks.v1+cell": {
          "cellMetadata": {
            "byteLimit": 2048000,
            "rowLimit": 10000
          },
          "inputWidgets": {},
          "nuid": "5f1b2ae8-fd9a-487a-8c61-10f91a2703dc",
          "showTitle": false,
          "title": ""
        },
        "id": "ZvbPOUdFpDZ_"
      },
      "outputs": [],
      "source": [
        "from pyspark.sql.functions import *\n",
        "from datetime import date"
      ]
    },
    {
      "cell_type": "markdown",
      "metadata": {
        "application/vnd.databricks.v1+cell": {
          "cellMetadata": {
            "byteLimit": 2048000,
            "rowLimit": 10000
          },
          "inputWidgets": {},
          "nuid": "a3231ae1-867a-4a4f-a8f4-d2d91faf7d7b",
          "showTitle": false,
          "title": ""
        },
        "id": "BMhOMHyCpDaA"
      },
      "source": [
        "#2. Conectar com o Datalake"
      ]
    },
    {
      "cell_type": "code",
      "execution_count": null,
      "metadata": {
        "application/vnd.databricks.v1+cell": {
          "cellMetadata": {
            "byteLimit": 2048000,
            "rowLimit": 10000
          },
          "inputWidgets": {},
          "nuid": "f873bbd4-1c6e-4351-bb99-18beaacfc82a",
          "showTitle": false,
          "title": ""
        },
        "id": "v-hmrWImpDaA"
      },
      "outputs": [],
      "source": [
        "service_credential = dbutils.secrets.get(scope=\"scope-curso-eng-dados\",key=\"sp-curso-eng-dados\")\n",
        "\n",
        "spark.conf.set(\"fs.azure.account.auth.type.stgdevcursomar2023.dfs.core.windows.net\", \"OAuth\")\n",
        "spark.conf.set(\"fs.azure.account.oauth.provider.type.stgdevcursomar2023.dfs.core.windows.net\", \"org.apache.hadoop.fs.azurebfs.oauth2.ClientCredsTokenProvider\")\n",
        "spark.conf.set(\"fs.azure.account.oauth2.client.id.stgdevcursomar2023.dfs.core.windows.net\", \"bc2050dd-bf22-45f1-aeb0-6c01a7afc9c6\")\n",
        "spark.conf.set(\"fs.azure.account.oauth2.client.secret.stgdevcursomar2023.dfs.core.windows.net\", service_credential)\n",
        "spark.conf.set(\"fs.azure.account.oauth2.client.endpoint.stgdevcursomar2023.dfs.core.windows.net\", \"https://login.microsoftonline.com/24f876f1-4233-4600-80f3-4c2c85764058/oauth2/token\")"
      ]
    },
    {
      "cell_type": "markdown",
      "metadata": {
        "application/vnd.databricks.v1+cell": {
          "cellMetadata": {
            "byteLimit": 2048000,
            "rowLimit": 10000
          },
          "inputWidgets": {},
          "nuid": "f7d18def-e7d0-421d-9283-2d1c861bb098",
          "showTitle": false,
          "title": ""
        },
        "id": "qu5EbwXRpDaB"
      },
      "source": [
        "#3. Verificar a conexão"
      ]
    },
    {
      "cell_type": "code",
      "execution_count": null,
      "metadata": {
        "application/vnd.databricks.v1+cell": {
          "cellMetadata": {
            "byteLimit": 2048000,
            "rowLimit": 10000
          },
          "inputWidgets": {},
          "nuid": "34dce816-b27c-4b2a-b006-b562614461b9",
          "showTitle": false,
          "title": "3. Verificar a conexão"
        },
        "id": "caW5gjItpDaB",
        "outputId": "b54d9e60-3de9-4678-fba3-f704ba803847"
      },
      "outputs": [
        {
          "output_type": "stream",
          "name": "stdout",
          "text": [
            "Out[85]: [FileInfo(path='abfss://fifteen@stgdevcursomar2023.dfs.core.windows.net/coreliano_andre/staging/Calendario.csv', name='Calendario.csv', size=116943, modificationTime=1685058858000),\n FileInfo(path='abfss://fifteen@stgdevcursomar2023.dfs.core.windows.net/coreliano_andre/staging/Detranmensal.csv', name='Detranmensal.csv', size=3148651, modificationTime=1685058870000),\n FileInfo(path='abfss://fifteen@stgdevcursomar2023.dfs.core.windows.net/coreliano_andre/staging/Detransemanal_01.csv', name='Detransemanal_01.csv', size=13445, modificationTime=1685058881000),\n FileInfo(path='abfss://fifteen@stgdevcursomar2023.dfs.core.windows.net/coreliano_andre/staging/Feriadosnacionais.csv', name='Feriadosnacionais.csv', size=59131, modificationTime=1685058892000),\n FileInfo(path='abfss://fifteen@stgdevcursomar2023.dfs.core.windows.net/coreliano_andre/staging/Integracao.csv', name='Integracao.csv', size=1284502, modificationTime=1685058905000),\n FileInfo(path='abfss://fifteen@stgdevcursomar2023.dfs.core.windows.net/coreliano_andre/staging/Meta.csv', name='Meta.csv', size=195, modificationTime=1685058919000)]"
          ]
        }
      ],
      "source": [
        "path_staging = \"abfss://fifteen@stgdevcursomar2023.dfs.core.windows.net/coreliano_andre/staging/\"\n",
        "dbutils.fs.ls(path_staging)"
      ]
    },
    {
      "cell_type": "markdown",
      "metadata": {
        "application/vnd.databricks.v1+cell": {
          "cellMetadata": {
            "byteLimit": 2048000,
            "rowLimit": 10000
          },
          "inputWidgets": {},
          "nuid": "5192e5a5-0eee-4233-a3c1-4b7b9ba73f58",
          "showTitle": false,
          "title": ""
        },
        "id": "-5fYwGNcpDaC"
      },
      "source": [
        "#4. Trazer as bases de calendário, feriados nacionais e a de detran mensal"
      ]
    },
    {
      "cell_type": "code",
      "execution_count": null,
      "metadata": {
        "application/vnd.databricks.v1+cell": {
          "cellMetadata": {
            "byteLimit": 2048000,
            "rowLimit": 10000
          },
          "inputWidgets": {},
          "nuid": "c9d03301-0ad3-44c1-a55c-7918d72d3259",
          "showTitle": false,
          "title": ""
        },
        "id": "_5EbqOjPpDaC"
      },
      "outputs": [],
      "source": [
        "path_calendario = path_staging + \"Calendario.csv\"\n",
        "path_feriados = path_staging + \"Feriadosnacionais.csv\"\n",
        "path_detran_m = path_staging + \"Detranmensal.csv\"\n",
        "\n",
        "df_calendario = spark.read \\\n",
        "    .format(\"csv\") \\\n",
        "    .option(\"header\", \"true\") \\\n",
        "    .load(path_calendario)\n",
        "df_feriados = spark.read \\\n",
        "    .format(\"csv\") \\\n",
        "    .option(\"header\", \"true\") \\\n",
        "    .load(path_feriados)\n",
        "df_detran_m = spark.read \\\n",
        "    .format(\"csv\") \\\n",
        "    .option(\"header\", \"true\") \\\n",
        "    .load(path_detran_m)\n",
        "\n",
        "display(df_calendario)\n",
        "display(df_feriados)\n",
        "display(df_detran_m)"
      ]
    },
    {
      "cell_type": "markdown",
      "metadata": {
        "application/vnd.databricks.v1+cell": {
          "cellMetadata": {
            "byteLimit": 2048000,
            "rowLimit": 10000
          },
          "inputWidgets": {},
          "nuid": "3855fdf3-b683-4a41-83b3-0a785b1c5dee",
          "showTitle": false,
          "title": ""
        },
        "id": "UfGCQFBvpDaC"
      },
      "source": [
        "#5. Tratar os dados das tabelas de calendário e feriados nacionais"
      ]
    },
    {
      "cell_type": "code",
      "execution_count": null,
      "metadata": {
        "application/vnd.databricks.v1+cell": {
          "cellMetadata": {
            "byteLimit": 2048000,
            "rowLimit": 10000
          },
          "inputWidgets": {},
          "nuid": "f44e4bef-0e70-4b5f-b03c-2c7bb215dcfd",
          "showTitle": false,
          "title": ""
        },
        "id": "05UMiextpDaD"
      },
      "outputs": [],
      "source": [
        "#padronizando formato das datas\n",
        "df_calendario_v2 = df_calendario.withColumn(\"column1\", regexp_replace(col(\"column1\"),\"00:00:00.0000000\",\"\")).select(col(\"column1\").alias(\"Data_calendario\")) # transformando coluna \"column1\" em data e renomeando\n",
        "df_feriados_v2 = df_feriados.withColumn(\"Data\", regexp_replace(col(\"Data\"),\"00:00:00.0000000\",\"\")) # tirando parte da informação da coluna data\n"
      ]
    },
    {
      "cell_type": "code",
      "execution_count": null,
      "metadata": {
        "application/vnd.databricks.v1+cell": {
          "cellMetadata": {
            "byteLimit": 2048000,
            "rowLimit": 10000
          },
          "inputWidgets": {},
          "nuid": "18ddea96-9731-4d6e-9df0-e951f04f7a3b",
          "showTitle": false,
          "title": ""
        },
        "id": "RJNAB06OpDaD"
      },
      "outputs": [],
      "source": [
        "display(df_calendario_v2)\n",
        "display(df_feriados_v2)"
      ]
    },
    {
      "cell_type": "markdown",
      "metadata": {
        "application/vnd.databricks.v1+cell": {
          "cellMetadata": {
            "byteLimit": 2048000,
            "rowLimit": 10000
          },
          "inputWidgets": {},
          "nuid": "d9fbaee1-964c-44e9-b7b4-42e25e11b2b2",
          "showTitle": false,
          "title": ""
        },
        "id": "TTXt5r04pDaD"
      },
      "source": [
        "#6. criar uma coluna na tabela DETRANMENSAL que contenha a data completa e manter colunas DETRANMENSAL: MARCA, MODELO, DATA e VIN"
      ]
    },
    {
      "cell_type": "code",
      "execution_count": null,
      "metadata": {
        "application/vnd.databricks.v1+cell": {
          "cellMetadata": {
            "byteLimit": 2048000,
            "rowLimit": 10000
          },
          "inputWidgets": {},
          "nuid": "d1d82846-bd89-49ad-afeb-7f92f0e03772",
          "showTitle": false,
          "title": ""
        },
        "id": "xQBf255upDaD",
        "outputId": "56d0fc27-e75c-41c8-f1e7-43650c089f3f"
      },
      "outputs": [
        {
          "output_type": "stream",
          "name": "stdout",
          "text": [
            "+----------+----------+-----------------+----------+\n|     marca|    modelo|              vin|      Data|\n+----------+----------+-----------------+----------+\n|   PEUGEOT|      2008|VR3UDYHZSNJ526248|2022-01-06|\n| CHEVROLET|      SAIL|LSGHD52H3ND024627|2022-01-06|\n|   PEUGEOT|   PARTNER|VR3EF9HPANJ531887|2022-01-04|\n| CHEVROLET|   CAPTIVA|LZWADAGA7NB024303|2022-01-24|\n| CHEVROLET|  N400 MAX|LZWCDAGA3NC807556|2022-01-03|\n|      FORD|NEW RANGER|MPBUR2366NX359311|2022-01-06|\n| CHEVROLET|    GROOVE|LZWADAGA8NG006685|2022-01-03|\n| CHEVROLET|    GROOVE|LZWADAGA2NG005841|2022-01-03|\n| CHEVROLET|    GROOVE|LZWADAGA7NG006144|2022-01-03|\n| CHEVROLET|    GROOVE|LZWADAGA1NG007063|2022-01-03|\n|   PEUGEOT|      2008|VR3USHNSSNJ525794|2022-01-03|\n| CHEVROLET|   CAPTIVA|LZWADAGA6NB027919|2022-01-24|\n| CHEVROLET|   CAPTIVA|LZWADAGAXNB027826|2022-01-13|\n|   PEUGEOT|       208|VR3UPHMGBNT002023|2022-01-04|\n|   PEUGEOT|       208|VR3UPHMGBNT001380|2022-01-06|\n|   HYUNDAI|  ATOS AH2|MALAF51CANM163805|2022-01-06|\n|   HYUNDAI|ACCENT HCI|MALC741BAMM296216|2022-01-06|\n| CHEVROLET|  N400 MAX|LZWCDAGA5NC807509|2022-01-03|\n|   PEUGEOT|      2008|VR3USHNSSNJ526477|2022-01-04|\n|VOLKSWAGEN|    VOYAGE|9BWDB45U1NT092231|2022-01-14|\n+----------+----------+-----------------+----------+\nonly showing top 20 rows\n\n"
          ]
        }
      ],
      "source": [
        "#juntando colunas dia, mes, ano. E criando uma nova coluna para data\n",
        "df_detran_m_v2 = df_detran_m.withColumn(\"Data\", concat(col(\"ano\"),lit(\"-\"),col(\"mes\"),lit(\"-\"), col(\"dia\") )).drop(\"dia\").drop(\"ano\").drop(\"mes\")#\n",
        "\n",
        "#transformando a coluna em tipo data pra ficar mais correta\n",
        "df_detran_m_v2 = df_detran_m_v2.withColumn(\"Data\", to_date(df_detran_m_v2.Data))# to_date() passa coluna pra tipo data\n",
        "\n",
        "#tirando coluna versao\n",
        "df_detran_m_v2 = df_detran_m_v2.drop(\"versao\")\n",
        "\n",
        "df_detran_m_v2.show()"
      ]
    },
    {
      "cell_type": "markdown",
      "metadata": {
        "application/vnd.databricks.v1+cell": {
          "cellMetadata": {
            "byteLimit": 2048000,
            "rowLimit": 10000
          },
          "inputWidgets": {},
          "nuid": "c2a52a19-e566-4291-b6d4-e992a556251c",
          "showTitle": false,
          "title": ""
        },
        "id": "mVAu8TaapDaE"
      },
      "source": [
        "#7. como foi a venda dos carros da marca PEUGEOUT durante os meses"
      ]
    },
    {
      "cell_type": "code",
      "execution_count": null,
      "metadata": {
        "application/vnd.databricks.v1+cell": {
          "cellMetadata": {
            "byteLimit": 2048000,
            "rowLimit": 10000
          },
          "inputWidgets": {},
          "nuid": "50dd20fd-a1c6-4ab7-bf8c-3617b01ac9a0",
          "showTitle": false,
          "title": ""
        },
        "id": "mEt7Hg83pDaE",
        "outputId": "affd71dc-a5b6-4efa-b7cf-b79bb9b9e3e6"
      },
      "outputs": [
        {
          "output_type": "stream",
          "name": "stdout",
          "text": [
            "Out[90]: 44653"
          ]
        }
      ],
      "source": [
        "df_detran_m_v2.count()"
      ]
    },
    {
      "cell_type": "code",
      "execution_count": null,
      "metadata": {
        "application/vnd.databricks.v1+cell": {
          "cellMetadata": {
            "byteLimit": 2048000,
            "rowLimit": 10000
          },
          "inputWidgets": {},
          "nuid": "5d04054f-86ea-49b7-a000-c6724efb0a8f",
          "showTitle": false,
          "title": ""
        },
        "id": "tVnFh5ntpDaE",
        "outputId": "29be443e-2201-4c5c-ada2-1a94b05e94c8"
      },
      "outputs": [
        {
          "output_type": "stream",
          "name": "stdout",
          "text": [
            "Out[91]: 44653"
          ]
        }
      ],
      "source": [
        "df_detran_m_v2.dropDuplicates()\n",
        "df_detran_m_v2.distinct()\n",
        "df_detran_m_v2.count() # contagem antes e depois para verificar mudança"
      ]
    },
    {
      "cell_type": "code",
      "execution_count": null,
      "metadata": {
        "application/vnd.databricks.v1+cell": {
          "cellMetadata": {
            "byteLimit": 2048000,
            "rowLimit": 10000
          },
          "inputWidgets": {},
          "nuid": "dbe9d4c8-83a3-44a4-ba78-3cfeeb2c18f3",
          "showTitle": false,
          "title": ""
        },
        "id": "ZBAJHHOdpDaE",
        "outputId": "3a98f8f2-0d78-47bc-a534-d15af102480c"
      },
      "outputs": [
        {
          "output_type": "stream",
          "name": "stdout",
          "text": [
            "+---+-----+\n|mes|count|\n+---+-----+\n|  1| 1499|\n|  2| 1194|\n|  3|  663|\n|  4|  870|\n|  5|  571|\n|  6|  723|\n|  7| 1005|\n|  8|  907|\n+---+-----+\n\n"
          ]
        }
      ],
      "source": [
        "# venda dos carros da marca PEUGEOUT durante os meses\n",
        "df_detran_m_v2 = df_detran_m_v2.filter(\"length(VIN) == 17\")# filter() pegar so quando placa tem 17 termos\n",
        "vendas_peugeout = df_detran_m_v2.where(upper(trim(col(\"marca\"))) == \"PEUGEOT\")# pegando apenas marcas da PEUGEOUT, upper() garante que sempre vai estar maiusculo, trim() tirar espaços da esquerda e direita\n",
        "vendas_peugeout_mes = vendas_peugeout.select( \"marca\", month('Data').alias('mes'))# month() pega o mes da coluna data\n",
        "vendas_peugeout_mes_count = vendas_peugeout_mes.groupBy(vendas_peugeout_mes.mes).count()# groupBy() agrupar por meses, count() vai contar quantidade de linhas pra cada mes\n",
        "vendas_peugeout_mes_count.sort(asc(\"mes\")).show() # sort(asc()) ordena mes em ordem crescente"
      ]
    },
    {
      "cell_type": "markdown",
      "metadata": {
        "application/vnd.databricks.v1+cell": {
          "cellMetadata": {
            "byteLimit": 2048000,
            "rowLimit": 10000
          },
          "inputWidgets": {},
          "nuid": "8a1b496a-9840-4d79-8a73-fdadd7d49461",
          "showTitle": false,
          "title": ""
        },
        "id": "DlmAvb-tpDaF"
      },
      "source": [
        "#8. Os modelos de veículo: GOL e HILUX estão incorretos. Na verdade, deveriam ser respectivamente UP e SW4"
      ]
    },
    {
      "cell_type": "code",
      "execution_count": null,
      "metadata": {
        "application/vnd.databricks.v1+cell": {
          "cellMetadata": {
            "byteLimit": 2048000,
            "rowLimit": 10000
          },
          "inputWidgets": {},
          "nuid": "3e434350-5c00-4399-9e77-eaf6f0e962f1",
          "showTitle": false,
          "title": ""
        },
        "id": "TBh-aKfzpDaF",
        "outputId": "31cf6449-0c44-44f5-dc46-865c2d6ab038"
      },
      "outputs": [
        {
          "output_type": "display_data",
          "data": {
            "text/html": [
              "<style scoped>\n",
              "  .table-result-container {\n",
              "    max-height: 300px;\n",
              "    overflow: auto;\n",
              "  }\n",
              "  table, th, td {\n",
              "    border: 1px solid black;\n",
              "    border-collapse: collapse;\n",
              "  }\n",
              "  th, td {\n",
              "    padding: 5px;\n",
              "  }\n",
              "  th {\n",
              "    text-align: left;\n",
              "  }\n",
              "</style><div class='table-result-container'><table class='table-result'><thead style='background-color: white'><tr><th>GOL</th><th>HILUX</th><th>SW4</th><th>UP</th></tr></thead><tbody><tr><td>947</td><td>2264</td><td>0</td><td>0</td></tr></tbody></table></div>"
            ]
          },
          "metadata": {
            "application/vnd.databricks.v1+output": {
              "addedWidgets": {},
              "aggData": [],
              "aggError": "",
              "aggOverflow": false,
              "aggSchema": [],
              "aggSeriesLimitReached": false,
              "aggType": "",
              "arguments": {},
              "columnCustomDisplayInfos": {},
              "data": [
                [
                  947,
                  2264,
                  0,
                  0
                ]
              ],
              "datasetInfos": [],
              "dbfsResultPath": null,
              "isJsonSchema": true,
              "metadata": {},
              "overflow": false,
              "plotOptions": {
                "customPlotOptions": {},
                "displayType": "table",
                "pivotAggregation": null,
                "pivotColumns": null,
                "xColumns": null,
                "yColumns": null
              },
              "removedWidgets": [],
              "schema": [
                {
                  "metadata": "{}",
                  "name": "GOL",
                  "type": "\"long\""
                },
                {
                  "metadata": "{}",
                  "name": "HILUX",
                  "type": "\"long\""
                },
                {
                  "metadata": "{}",
                  "name": "SW4",
                  "type": "\"long\""
                },
                {
                  "metadata": "{}",
                  "name": "UP",
                  "type": "\"long\""
                }
              ],
              "type": "table"
            }
          }
        }
      ],
      "source": [
        "# deixar visual a quantidade dos modelos GOL, HILUX, SW4 e UP\n",
        "df_detran_m_v3 = df_detran_m_v2\n",
        "GOL = df_detran_m_v3.where(col(\"modelo\")==\"GOL\").count()\n",
        "HILUX = df_detran_m_v3.where(col(\"modelo\")==\"HILUX\").count()\n",
        "UP = df_detran_m_v3.where(col(\"modelo\")==\"UP\").count()\n",
        "SW4 = df_detran_m_v3.where(col(\"modelo\")==\"SW4\").count()\n",
        "\n",
        "modelo_count = [{'GOL': GOL, 'HILUX': HILUX,'UP':UP,'SW4':SW4}]\n",
        "display(modelo_count)"
      ]
    },
    {
      "cell_type": "code",
      "execution_count": null,
      "metadata": {
        "application/vnd.databricks.v1+cell": {
          "cellMetadata": {
            "byteLimit": 2048000,
            "rowLimit": 10000
          },
          "inputWidgets": {},
          "nuid": "26cf18df-26fd-4785-93d1-5dccf2121a83",
          "showTitle": false,
          "title": ""
        },
        "id": "iIcSmzyRpDaF"
      },
      "outputs": [],
      "source": [
        "df_detran_m_v3 = df_detran_m_v3.withColumn(\"modelo\",regexp_replace(col(\"modelo\"),\"GOL\",\"UP\")) # trocando \"GOl\" por \"UP\"\n",
        "df_detran_m_v3 = df_detran_m_v3.withColumn(\"modelo\",regexp_replace(col(\"modelo\"),\"HILUX\",\"SW4\")) # trocando \"HILUZ\" por \"SW4\"\n"
      ]
    },
    {
      "cell_type": "code",
      "execution_count": null,
      "metadata": {
        "application/vnd.databricks.v1+cell": {
          "cellMetadata": {
            "byteLimit": 2048000,
            "rowLimit": 10000
          },
          "inputWidgets": {},
          "nuid": "f02f7665-7bb8-46b0-9a48-cbf89036baff",
          "showTitle": false,
          "title": ""
        },
        "id": "FurFH52gpDaF",
        "outputId": "59e7e578-807a-4339-edf3-5e9d8272f991"
      },
      "outputs": [
        {
          "output_type": "display_data",
          "data": {
            "text/html": [
              "<style scoped>\n",
              "  .table-result-container {\n",
              "    max-height: 300px;\n",
              "    overflow: auto;\n",
              "  }\n",
              "  table, th, td {\n",
              "    border: 1px solid black;\n",
              "    border-collapse: collapse;\n",
              "  }\n",
              "  th, td {\n",
              "    padding: 5px;\n",
              "  }\n",
              "  th {\n",
              "    text-align: left;\n",
              "  }\n",
              "</style><div class='table-result-container'><table class='table-result'><thead style='background-color: white'><tr><th>GOL</th><th>HILUX</th><th>SW4</th><th>UP</th></tr></thead><tbody><tr><td>0</td><td>0</td><td>2264</td><td>947</td></tr></tbody></table></div>"
            ]
          },
          "metadata": {
            "application/vnd.databricks.v1+output": {
              "addedWidgets": {},
              "aggData": [],
              "aggError": "",
              "aggOverflow": false,
              "aggSchema": [],
              "aggSeriesLimitReached": false,
              "aggType": "",
              "arguments": {},
              "columnCustomDisplayInfos": {},
              "data": [
                [
                  0,
                  0,
                  2264,
                  947
                ]
              ],
              "datasetInfos": [],
              "dbfsResultPath": null,
              "isJsonSchema": true,
              "metadata": {},
              "overflow": false,
              "plotOptions": {
                "customPlotOptions": {},
                "displayType": "table",
                "pivotAggregation": null,
                "pivotColumns": null,
                "xColumns": null,
                "yColumns": null
              },
              "removedWidgets": [],
              "schema": [
                {
                  "metadata": "{}",
                  "name": "GOL",
                  "type": "\"long\""
                },
                {
                  "metadata": "{}",
                  "name": "HILUX",
                  "type": "\"long\""
                },
                {
                  "metadata": "{}",
                  "name": "SW4",
                  "type": "\"long\""
                },
                {
                  "metadata": "{}",
                  "name": "UP",
                  "type": "\"long\""
                }
              ],
              "type": "table"
            }
          }
        }
      ],
      "source": [
        "# verificando que mudou certo\n",
        "GOL = df_detran_m_v3.where(col(\"modelo\")==\"GOL\").count()\n",
        "HILUX = df_detran_m_v3.where(col(\"modelo\")==\"HILUX\").count()\n",
        "UP = df_detran_m_v3.where(col(\"modelo\")==\"UP\").count()\n",
        "SW4 = df_detran_m_v3.where(col(\"modelo\")==\"SW4\").count()\n",
        "\n",
        "modelo_count = [{'GOL': GOL, 'HILUX': HILUX,'UP':UP,'SW4':SW4}]\n",
        "display(modelo_count)"
      ]
    },
    {
      "cell_type": "markdown",
      "metadata": {
        "application/vnd.databricks.v1+cell": {
          "cellMetadata": {
            "byteLimit": 2048000,
            "rowLimit": 10000
          },
          "inputWidgets": {},
          "nuid": "4074d2af-6d50-4585-9f15-c0a14791df31",
          "showTitle": false,
          "title": ""
        },
        "id": "PLPjissFpDaG"
      },
      "source": [
        "#9. Não consider os feriados de CARNAVAL, INDEPÊNDENCIA DO BRASIL e NOSSA SENHORA APARECIDA."
      ]
    },
    {
      "cell_type": "code",
      "execution_count": null,
      "metadata": {
        "application/vnd.databricks.v1+cell": {
          "cellMetadata": {
            "byteLimit": 2048000,
            "rowLimit": 10000
          },
          "inputWidgets": {},
          "nuid": "6e4262cd-8b96-4c7c-be4b-cb222cf79c23",
          "showTitle": false,
          "title": ""
        },
        "id": "ueZQgZqJpDaG",
        "outputId": "8b7bccd9-60b3-4657-9bde-e13262a62b45"
      },
      "outputs": [
        {
          "output_type": "stream",
          "name": "stdout",
          "text": [
            "Tiradentes\nProclamação da República\nNossa Sr.a Aparecida - Padroeira do Brasil\nDia do Trabalho\nCorpus Christi\nNatal\nConfraternização Universal\nCarnaval\nIndependência do Brasil\nPaixão de Cristo\nFinados\n"
          ]
        }
      ],
      "source": [
        "# identificando nome completo da coluna Feriado\n",
        "valores_feriado = df_feriados_v2.select(col(\"Feriado\")).distinct().collect()\n",
        "for valor in valores_feriado:\n",
        "    print(valor[0])"
      ]
    },
    {
      "cell_type": "code",
      "execution_count": null,
      "metadata": {
        "application/vnd.databricks.v1+cell": {
          "cellMetadata": {
            "byteLimit": 2048000,
            "rowLimit": 10000
          },
          "inputWidgets": {},
          "nuid": "43356dbf-e592-4254-9847-b92baafc7dd2",
          "showTitle": false,
          "title": ""
        },
        "id": "9x8wPcu7pDaG",
        "outputId": "6f886d76-10b0-470f-c1fe-1cb90ce461b5"
      },
      "outputs": [
        {
          "output_type": "stream",
          "name": "stdout",
          "text": [
            "Out[97]: 936"
          ]
        }
      ],
      "source": [
        "df_feriados_v2.count()# quantidade de linhas antes"
      ]
    },
    {
      "cell_type": "code",
      "execution_count": null,
      "metadata": {
        "application/vnd.databricks.v1+cell": {
          "cellMetadata": {
            "byteLimit": 2048000,
            "rowLimit": 10000
          },
          "inputWidgets": {},
          "nuid": "92b43501-932b-455a-aae1-3cd7bc2317a6",
          "showTitle": false,
          "title": ""
        },
        "id": "F4vnTIpGpDaG",
        "outputId": "08e7427c-d5b7-4c7e-9a81-d31dbe892b30"
      },
      "outputs": [
        {
          "output_type": "stream",
          "name": "stdout",
          "text": [
            "Out[98]: 624"
          ]
        }
      ],
      "source": [
        "# filtrando para aparecer apenas quado o df é diferente dos feriados especificados\n",
        "df_feriados_v3 = df_feriados_v2.where((col(\"Feriado\") != \"Carnaval\") &\n",
        "                                     (col(\"Feriado\") != \"Independência do Brasil\") &\n",
        "                                     (col(\"Feriado\") != \"Nossa Sr.a Aparecida - Padroeira do Brasil\"))\n",
        "df_feriados_v3.count()# quantidade de linhas depois"
      ]
    },
    {
      "cell_type": "markdown",
      "metadata": {
        "application/vnd.databricks.v1+cell": {
          "cellMetadata": {
            "byteLimit": 2048000,
            "rowLimit": 10000
          },
          "inputWidgets": {},
          "nuid": "2a2a5b0d-86b0-4bcd-8eff-43a4e067b4c4",
          "showTitle": false,
          "title": ""
        },
        "id": "k7ErJw27pDaH"
      },
      "source": [
        "#10. Fazer um join da base de detran com a base de calendário (final mostrar Data_calendario)"
      ]
    },
    {
      "cell_type": "markdown",
      "metadata": {
        "application/vnd.databricks.v1+cell": {
          "cellMetadata": {
            "byteLimit": 2048000,
            "rowLimit": 10000
          },
          "inputWidgets": {},
          "nuid": "559783e8-0e71-4aa0-8d58-5e35ab7052d0",
          "showTitle": false,
          "title": ""
        },
        "id": "eyYhjXz7pDaH"
      },
      "source": [
        "##10.1 Resolvendo"
      ]
    },
    {
      "cell_type": "code",
      "execution_count": null,
      "metadata": {
        "application/vnd.databricks.v1+cell": {
          "cellMetadata": {
            "byteLimit": 2048000,
            "rowLimit": 10000
          },
          "inputWidgets": {},
          "nuid": "5076fa28-d65e-45a7-94c9-5d32a4174dde",
          "showTitle": false,
          "title": ""
        },
        "id": "cK9SwUyTpDaH",
        "outputId": "058fcbd8-f419-4a87-dbb3-de8a41fd9049"
      },
      "outputs": [
        {
          "output_type": "stream",
          "name": "stdout",
          "text": [
            "Out[99]: 44602"
          ]
        }
      ],
      "source": [
        "df_detran_m_v3.count()# quantidade de linhas em detran antes do join"
      ]
    },
    {
      "cell_type": "code",
      "execution_count": null,
      "metadata": {
        "application/vnd.databricks.v1+cell": {
          "cellMetadata": {
            "byteLimit": 2048000,
            "rowLimit": 10000
          },
          "inputWidgets": {},
          "nuid": "445c6d69-679a-4664-9d93-db4a0d8f7718",
          "showTitle": false,
          "title": ""
        },
        "id": "B9GPb-WspDaH"
      },
      "outputs": [],
      "source": [
        "# df_detran_m_v3 (esquerda), df_calendario_v2 (direita)\n",
        "# como queria manter todo conteudo de Data_calendario usei join right\n",
        "\n",
        "join_detran_calendario = df_detran_m_v3.join(df_calendario_v2, df_detran_m_v3.Data == df_calendario_v2.Data_calendario, \"right\")\\\n",
        "    .drop(df_detran_m_v3.Data)\\\n",
        "    .where((col(\"Data_calendario\") > \"2022-01-01\"))# tirar datas anteriores porque estavam como null\n",
        "\n",
        "\n",
        "display(join_detran_calendario)\n"
      ]
    },
    {
      "cell_type": "code",
      "execution_count": null,
      "metadata": {
        "application/vnd.databricks.v1+cell": {
          "cellMetadata": {
            "byteLimit": 2048000,
            "rowLimit": 10000
          },
          "inputWidgets": {},
          "nuid": "7ea00f1d-83fa-4a01-b7d0-afaaa6b27f0c",
          "showTitle": false,
          "title": ""
        },
        "id": "hSVyQ7CxpDaH",
        "outputId": "e852195b-9fbe-41d7-a950-5d9fd3c2776d"
      },
      "outputs": [
        {
          "output_type": "stream",
          "name": "stdout",
          "text": [
            "Out[101]: 45471"
          ]
        }
      ],
      "source": [
        "join_detran_calendario.count()# quantidade de linhas em detran depois do join"
      ]
    },
    {
      "cell_type": "markdown",
      "metadata": {
        "application/vnd.databricks.v1+cell": {
          "cellMetadata": {
            "byteLimit": 2048000,
            "rowLimit": 10000
          },
          "inputWidgets": {},
          "nuid": "e0987942-7f10-48ee-9368-c028dc0632b7",
          "showTitle": false,
          "title": ""
        },
        "id": "DhXC5dRQpDaH"
      },
      "source": [
        "##10.2 Resolvendo com formato do SQL"
      ]
    },
    {
      "cell_type": "code",
      "execution_count": null,
      "metadata": {
        "application/vnd.databricks.v1+cell": {
          "cellMetadata": {
            "byteLimit": 2048000,
            "rowLimit": 10000
          },
          "inputWidgets": {},
          "nuid": "1b085ad8-7a2a-4a7c-910d-0a1ee21661e1",
          "showTitle": false,
          "title": ""
        },
        "id": "g54ROi-tpDaI"
      },
      "outputs": [],
      "source": [
        "# criando TempView para DF utilizados\n",
        "df_detran_m_v3.createOrReplaceTempView(\"detran_mensal\")\n",
        "df_calendario_v2.createOrReplaceTempView(\"calendario\")"
      ]
    },
    {
      "cell_type": "code",
      "execution_count": null,
      "metadata": {
        "application/vnd.databricks.v1+cell": {
          "cellMetadata": {
            "byteLimit": 2048000,
            "rowLimit": 10000
          },
          "inputWidgets": {},
          "nuid": "46e8156c-8182-48e2-8e4e-f4ca115ab94d",
          "showTitle": false,
          "title": ""
        },
        "id": "fkYKXiZlpDaI"
      },
      "outputs": [],
      "source": [
        "\n",
        "teste2 = spark.sql(\n",
        "    \"\"\"\n",
        "    SELECT *\n",
        "    FROM detran_mensal A\n",
        "    RIGHT JOIN calendario B\n",
        "    ON A.Data =  B.Data_calendario\n",
        "    WHERE B.Data_calendario > \"2022-01-01\"\n",
        "    \"\"\")\n",
        "# WHERE para tirar datas anteriores porque estavam como null\n",
        "display(teste2)\n",
        "teste2.count()"
      ]
    },
    {
      "cell_type": "markdown",
      "metadata": {
        "application/vnd.databricks.v1+cell": {
          "cellMetadata": {
            "byteLimit": 2048000,
            "rowLimit": 10000
          },
          "inputWidgets": {},
          "nuid": "d526bcf7-f2d0-4d91-bf3b-5ac5d9aa9d09",
          "showTitle": false,
          "title": ""
        },
        "id": "nObwjGPqpDaI"
      },
      "source": [
        "#11. Fazer um join da base resultante do exercício anterior com a base de feriados."
      ]
    },
    {
      "cell_type": "code",
      "execution_count": null,
      "metadata": {
        "application/vnd.databricks.v1+cell": {
          "cellMetadata": {
            "byteLimit": 2048000,
            "rowLimit": 10000
          },
          "inputWidgets": {},
          "nuid": "22cac9b1-c476-4626-815d-ab45a83fc258",
          "showTitle": false,
          "title": ""
        },
        "id": "Tlg6N_GspDaI"
      },
      "outputs": [],
      "source": [
        "join_dc_feriados = join_detran_calendario.join(df_feriados_v3, join_detran_calendario.Data_calendario == df_feriados_v3.Data,\"left\").drop(\"Data\").where((col(\"Data_calendario\") >= \"2022-01-01\"))\n",
        "\n",
        "display(join_dc_feriados)"
      ]
    },
    {
      "cell_type": "code",
      "execution_count": null,
      "metadata": {
        "application/vnd.databricks.v1+cell": {
          "cellMetadata": {
            "byteLimit": 2048000,
            "rowLimit": 10000
          },
          "inputWidgets": {},
          "nuid": "38fa90dd-88f1-41de-907d-802c3c74310a",
          "showTitle": false,
          "title": ""
        },
        "id": "ntsMRjUmpDaI",
        "outputId": "9e6684df-2023-4276-818c-97584a72d3fc"
      },
      "outputs": [
        {
          "output_type": "stream",
          "name": "stdout",
          "text": [
            "Out[105]: 45471"
          ]
        }
      ],
      "source": [
        "join_dc_feriados.count()"
      ]
    },
    {
      "cell_type": "code",
      "execution_count": null,
      "metadata": {
        "application/vnd.databricks.v1+cell": {
          "cellMetadata": {
            "byteLimit": 2048000,
            "rowLimit": 10000
          },
          "inputWidgets": {},
          "nuid": "b7c0d8cd-7a16-4d4d-8feb-a71cdced8cff",
          "showTitle": false,
          "title": ""
        },
        "id": "LRAIS2PLpDaI"
      },
      "outputs": [],
      "source": [
        "quantidade_feriados_join = join_dc_feriados.where(col(\"Feriado\") != \"null\").count()\n",
        "quantidade_feriados = df_feriados_v3.count()"
      ]
    },
    {
      "cell_type": "code",
      "execution_count": null,
      "metadata": {
        "application/vnd.databricks.v1+cell": {
          "cellMetadata": {
            "byteLimit": 2048000,
            "rowLimit": 10000
          },
          "inputWidgets": {},
          "nuid": "5216d9bc-438c-442f-a9e4-7d3ff3a8f584",
          "showTitle": false,
          "title": ""
        },
        "id": "AabO6tHOpDaJ",
        "outputId": "26980665-d5b9-48ba-d555-93b31d9bbc91"
      },
      "outputs": [
        {
          "output_type": "stream",
          "name": "stdout",
          "text": [
            "443"
          ]
        }
      ],
      "source": [
        "display(quantidade_feriados_join)"
      ]
    },
    {
      "cell_type": "code",
      "execution_count": null,
      "metadata": {
        "application/vnd.databricks.v1+cell": {
          "cellMetadata": {
            "byteLimit": 2048000,
            "rowLimit": 10000
          },
          "inputWidgets": {},
          "nuid": "85d3886e-3d6a-46d9-8aa9-124433f95408",
          "showTitle": false,
          "title": ""
        },
        "id": "NVVHrGdcpDaJ",
        "outputId": "966d05de-85ab-49e6-b3ff-609e498ae31d"
      },
      "outputs": [
        {
          "output_type": "stream",
          "name": "stdout",
          "text": [
            "624"
          ]
        }
      ],
      "source": [
        "display(quantidade_feriados)"
      ]
    }
  ],
  "metadata": {
    "application/vnd.databricks.v1+notebook": {
      "dashboards": [],
      "language": "python",
      "notebookMetadata": {
        "pythonIndentUnit": 4
      },
      "notebookName": "coreliano_Tratamento de dados",
      "widgets": {}
    },
    "colab": {
      "provenance": [],
      "include_colab_link": true
    }
  },
  "nbformat": 4,
  "nbformat_minor": 0
}