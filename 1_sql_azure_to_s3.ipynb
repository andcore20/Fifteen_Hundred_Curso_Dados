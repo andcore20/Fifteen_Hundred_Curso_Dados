{
  "cells": [
    {
      "cell_type": "markdown",
      "metadata": {
        "id": "view-in-github",
        "colab_type": "text"
      },
      "source": [
        "<a href=\"https://colab.research.google.com/github/andcore20/Fifteen_Hundred_Curso_Dados/blob/main/sql_azure_to_s3.ipynb\" target=\"_parent\"><img src=\"https://colab.research.google.com/assets/colab-badge.svg\" alt=\"Open In Colab\"/></a>"
      ]
    },
    {
      "cell_type": "code",
      "execution_count": null,
      "metadata": {
        "application/vnd.databricks.v1+cell": {
          "cellMetadata": {
            "byteLimit": 2048000,
            "rowLimit": 10000
          },
          "inputWidgets": {},
          "nuid": "79f02ca7-dd96-4498-8325-a6eebcb8f571",
          "showTitle": false,
          "title": ""
        },
        "id": "8ol-qr2vo0tp"
      },
      "outputs": [],
      "source": [
        "from pyspark.sql.functions import *\n",
        "from datetime import date"
      ]
    },
    {
      "cell_type": "code",
      "execution_count": null,
      "metadata": {
        "application/vnd.databricks.v1+cell": {
          "cellMetadata": {
            "byteLimit": 2048000,
            "rowLimit": 10000
          },
          "inputWidgets": {},
          "nuid": "08a0a01e-160e-4625-833e-40943550f1e0",
          "showTitle": false,
          "title": ""
        },
        "id": "yljn61DHo0tq"
      },
      "outputs": [],
      "source": [
        "url = \"jdbc:sqlserver://191.232.198.224:1433;databaseName=db-curso-eng-dados;trustServerCertificate=true\"\n",
        "user = \"user_aluno_dados\"\n",
        "password = dbutils.secrets.get(scope = \"scope-curso-eng-dados\", key = \"sql-server-user-pass\")"
      ]
    },
    {
      "cell_type": "code",
      "execution_count": null,
      "metadata": {
        "application/vnd.databricks.v1+cell": {
          "cellMetadata": {
            "byteLimit": 2048000,
            "rowLimit": 10000
          },
          "inputWidgets": {},
          "nuid": "9229a509-c40c-4b51-9840-815a18ec0dd2",
          "showTitle": false,
          "title": ""
        },
        "id": "NXuJ-8J8o0tr",
        "outputId": "1c7405fd-e460-436c-a906-e9b7bc97f3e6"
      },
      "outputs": [
        {
          "output_type": "stream",
          "name": "stdout",
          "text": [
            "Calendario\n[Proj.Calendario]\nDetranmensal\n[Proj.Detranmensal]\nDetransemanal_01\n[Proj.Detransemanal_01]\nFeriadosnacionais\n[Proj.Feriadosnacionais]\nIntegracao\n[Proj.Integracao]\nMeta\n[Proj.Meta]\n"
          ]
        }
      ],
      "source": [
        "dicionario_dfname = {\n",
        "    'Calendario':'[Proj.Calendario]',\n",
        "    'Detranmensal':'[Proj.Detranmensal]',\n",
        "    'Detransemanal_01':'[Proj.Detransemanal_01]',\n",
        "    'Feriadosnacionais':'[Proj.Feriadosnacionais]',\n",
        "    'Integracao':'[Proj.Integracao]',\n",
        "    'Meta':'[Proj.Meta]'\n",
        "    }\n",
        "\n",
        "for df in dicionario_dfname:\n",
        "    print(df)\n",
        "    print(dicionario_dfname[df])\n"
      ]
    },
    {
      "cell_type": "code",
      "execution_count": null,
      "metadata": {
        "application/vnd.databricks.v1+cell": {
          "cellMetadata": {
            "byteLimit": 2048000,
            "rowLimit": 10000
          },
          "inputWidgets": {},
          "nuid": "bce87ac8-9e55-42ca-823d-7b0aaabd5239",
          "showTitle": false,
          "title": ""
        },
        "id": "EB4p2SvBo0ts"
      },
      "outputs": [],
      "source": [
        "df = {}\n",
        "for i in dicionario_dfname:\n",
        "    df[i] = (spark.read\n",
        "    .format(\"jdbc\")\n",
        "    .option(\"url\", url)\n",
        "    .option(\"dbtable\", dicionario_dfname[i])\n",
        "    .option(\"user\", user)\n",
        "    .option(\"password\", password)\n",
        "    .load()\n",
        "    )"
      ]
    },
    {
      "cell_type": "code",
      "execution_count": null,
      "metadata": {
        "application/vnd.databricks.v1+cell": {
          "cellMetadata": {
            "byteLimit": 2048000,
            "rowLimit": 10000
          },
          "inputWidgets": {},
          "nuid": "c84fa7c6-7931-46c2-8ba0-dbe36d9444cd",
          "showTitle": false,
          "title": ""
        },
        "id": "bAUds9cao0ts",
        "outputId": "847bc4ea-8eb0-4b34-bfc1-c0a2375f5d24"
      },
      "outputs": [
        {
          "output_type": "stream",
          "name": "stdout",
          "text": [
            "{'Calendario': DataFrame[column1: date, column2: timestamp],\n 'Detranmensal': DataFrame[mes: int, marca: string, modelo: string, versao: string, dia: int, ano: smallint, vin: string],\n 'Detransemanal_01': DataFrame[mes: int, marca: string, modelo: string, versao: string, dia: int, ano: smallint, vin: string],\n 'Feriadosnacionais': DataFrame[Data: date, Dia_da_Semana: string, Feriado: string],\n 'Integracao': DataFrame[vin: string, Dealer: string],\n 'Meta': DataFrame[dealer: string, meta: smallint]}"
          ]
        }
      ],
      "source": [
        "display(df)"
      ]
    },
    {
      "cell_type": "code",
      "execution_count": null,
      "metadata": {
        "application/vnd.databricks.v1+cell": {
          "cellMetadata": {
            "byteLimit": 2048000,
            "rowLimit": 10000
          },
          "inputWidgets": {},
          "nuid": "dfa16eb7-dd5e-441e-8af0-873917b3afec",
          "showTitle": false,
          "title": ""
        },
        "id": "XbTfOWM2o0ts"
      },
      "outputs": [],
      "source": [
        "s3_bucket = \"uni1500-curso-dados-2305\"\n",
        "s3_path = \"staging/Grupo 01/coreliano_andre/staging/\"\n",
        "\n",
        "for i in df:\n",
        "    df[i].write\\\n",
        "    .format(\"csv\")\\\n",
        "    .mode(\"overwrite\")\\\n",
        "    .option(\"header\",\"true\")\\\n",
        "    .save(f\"s3a://{s3_bucket}/{s3_path+i}\")"
      ]
    }
  ],
  "metadata": {
    "application/vnd.databricks.v1+notebook": {
      "dashboards": [],
      "language": "python",
      "notebookMetadata": {
        "pythonIndentUnit": 4
      },
      "notebookName": "Untitled Notebook 2023-06-19 20:19:17",
      "widgets": {}
    },
    "colab": {
      "provenance": [],
      "include_colab_link": true
    }
  },
  "nbformat": 4,
  "nbformat_minor": 0
}
