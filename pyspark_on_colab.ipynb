{
  "cells": [
    {
      "cell_type": "markdown",
      "metadata": {
        "id": "view-in-github",
        "colab_type": "text"
      },
      "source": [
        "<a href=\"https://colab.research.google.com/github/andcore20/Fifteen_Hundred_Curso_Dados/blob/main/pyspark_on_colab.ipynb\" target=\"_parent\"><img src=\"https://colab.research.google.com/assets/colab-badge.svg\" alt=\"Open In Colab\"/></a>"
      ]
    },
    {
      "cell_type": "markdown",
      "metadata": {
        "id": "2_RsJCKyLryV"
      },
      "source": [
        "## **PYSPARK ON COLAB**\n",
        "\n"
      ]
    },
    {
      "cell_type": "markdown",
      "metadata": {
        "id": "Qm3XoeFgx76N"
      },
      "source": [
        "1. Instalar Dependências (3.1)"
      ]
    },
    {
      "cell_type": "code",
      "execution_count": null,
      "metadata": {
        "id": "MC4MaDZ8Etw5"
      },
      "outputs": [],
      "source": [
        "!apt-get update -qq\n",
        "\n",
        "!apt-get install openjdk-8-jdk-headless -qq > /dev/null\n",
        "\n",
        "!wget -q https://archive.apache.org/dist/spark/spark-3.1.2/spark-3.1.2-bin-hadoop2.7.tgz\n",
        "\n",
        "!tar xf spark-3.1.2-bin-hadoop2.7.tgz\n",
        "\n",
        "!pip install -q findspark"
      ]
    },
    {
      "cell_type": "markdown",
      "metadata": {
        "id": "srsYuui1yCnz"
      },
      "source": [
        "2. Declarando Variáveis de Ambiente"
      ]
    },
    {
      "cell_type": "code",
      "execution_count": null,
      "metadata": {
        "id": "csc9ZeVeEttq"
      },
      "outputs": [],
      "source": [
        "import os\n",
        "\n",
        "os.environ[\"JAVA_HOME\"] = \"/usr/lib/jvm/java-8-openjdk-amd64\"\n",
        "\n",
        "os.environ[\"SPARK_HOME\"] = \"/content/spark-3.1.2-bin-hadoop2.7\""
      ]
    },
    {
      "cell_type": "markdown",
      "metadata": {
        "id": "ETgQJwA1MpXW"
      },
      "source": [
        "3. Encontrar o Spark no Ambiente Colab"
      ]
    },
    {
      "cell_type": "code",
      "execution_count": null,
      "metadata": {
        "id": "scSWNXDHEtmP"
      },
      "outputs": [],
      "source": [
        "import findspark\n",
        "\n",
        "findspark.init()"
      ]
    },
    {
      "cell_type": "markdown",
      "metadata": {
        "id": "UiTqzl6Qywv2"
      },
      "source": [
        "4. Criando uma SparkSession"
      ]
    },
    {
      "cell_type": "code",
      "execution_count": null,
      "metadata": {
        "id": "_DJjj0xGEtc3"
      },
      "outputs": [],
      "source": [
        "from pyspark.sql import SparkSession\n",
        "\n",
        "spark = SparkSession.builder\\\n",
        "  .master('local[*]')\\\n",
        "  .appName(\"Iniciando com Spark\")\\\n",
        "  .getOrCreate()"
      ]
    },
    {
      "cell_type": "markdown",
      "metadata": {
        "id": "TVsc2qhjy3xn"
      },
      "source": [
        "5. Leitura CSV em Spark"
      ]
    },
    {
      "cell_type": "code",
      "execution_count": null,
      "metadata": {
        "id": "ctRV84iHEtNR"
      },
      "outputs": [],
      "source": [
        "#path = '/content/drive/MyDrive/data_sources/banco_central/credito_direcionado/indicador_custo.csv'\n",
        "\n",
        "#df = spark.read.format(\"csv\").option(\"header\", \"true\").option(\"sep\", \";\").load(path)"
      ]
    },
    {
      "cell_type": "markdown",
      "source": [
        "## Começo"
      ],
      "metadata": {
        "id": "phyLsD1R039E"
      }
    },
    {
      "cell_type": "markdown",
      "metadata": {
        "id": "HZYDr7ZFILpN"
      },
      "source": [
        "**1.** Trazer as bases de calendário, feriados nacionais e a de detran mensal"
      ]
    },
    {
      "cell_type": "code",
      "execution_count": null,
      "metadata": {
        "id": "p3zh1SDVErOD",
        "colab": {
          "base_uri": "https://localhost:8080/"
        },
        "outputId": "1dcd7418-4fff-4875-e733-071d388db2f8"
      },
      "outputs": [
        {
          "output_type": "stream",
          "name": "stdout",
          "text": [
            "Mounted at /content/drive\n"
          ]
        }
      ],
      "source": [
        "from pyspark.sql.functions import *\n",
        "from datetime import date\n",
        "\n",
        "from google.colab import drive\n",
        "drive.mount('/content/drive') #conectar drive com colab para importar .csv\n",
        "\n",
        "path_staging = \"/content/drive/MyDrive/17.UNI1500th/\"\n",
        "\n",
        "path_calendario = path_staging + \"Calendario.csv\"\n",
        "path_feriados = path_staging + \"Feriadosnacionais.csv\"\n",
        "path_detran_m = path_staging + \"Detranmensal.csv\"\n",
        "\n",
        "df_calendario = spark.read.format(\"csv\").option(\"header\", \"true\").option(\"sep\", \",\").load(path_calendario) #format e option faz parte do metodo para usar pyspark no colab\n",
        "df_feriados = spark.read.format(\"csv\").option(\"header\", \"true\").option(\"sep\", \",\").load(path_feriados)\n",
        "df_detran_m = spark.read.format(\"csv\").option(\"header\", \"true\").option(\"sep\", \",\").load(path_detran_m)\n",
        "\n",
        "#df_calendario = spark.read \\\n",
        "#    .format(\"csv\") \\\n",
        "#    .option(\"header\", \"true\") \\\n",
        "#    .load(path_calendario)\n",
        "#df_feriados = spark.read \\\n",
        "#    .format(\"csv\") \\\n",
        "#    .option(\"header\", \"true\") \\\n",
        "#    .load(path_feriados)\n",
        "#df_detran_m = spark.read \\\n",
        "#    .format(\"csv\") \\\n",
        "#    .option(\"header\", \"true\") \\\n",
        "#    .load(path_detran_m)\n"
      ]
    },
    {
      "cell_type": "code",
      "execution_count": null,
      "metadata": {
        "id": "qbmeGpD2UFy3",
        "colab": {
          "base_uri": "https://localhost:8080/"
        },
        "outputId": "98bc215b-c25d-41b8-9031-1301db1cdbda"
      },
      "outputs": [
        {
          "output_type": "stream",
          "name": "stdout",
          "text": [
            "+--------------------+--------+\n",
            "|             column1| column2|\n",
            "+--------------------+--------+\n",
            "|2016-06-30 00:00:...|00:00:00|\n",
            "|2016-07-01 00:00:...|00:00:00|\n",
            "|2016-07-02 00:00:...|00:00:00|\n",
            "|2016-07-03 00:00:...|00:00:00|\n",
            "|2016-07-04 00:00:...|00:00:00|\n",
            "|2016-07-05 00:00:...|00:00:00|\n",
            "|2016-07-06 00:00:...|00:00:00|\n",
            "|2016-07-07 00:00:...|00:00:00|\n",
            "|2016-07-08 00:00:...|00:00:00|\n",
            "|2016-07-09 00:00:...|00:00:00|\n",
            "|2016-07-10 00:00:...|00:00:00|\n",
            "|2016-07-11 00:00:...|00:00:00|\n",
            "|2016-07-12 00:00:...|00:00:00|\n",
            "|2016-07-13 00:00:...|00:00:00|\n",
            "|2016-07-14 00:00:...|00:00:00|\n",
            "|2016-07-15 00:00:...|00:00:00|\n",
            "|2016-07-16 00:00:...|00:00:00|\n",
            "|2016-07-17 00:00:...|00:00:00|\n",
            "|2016-07-18 00:00:...|00:00:00|\n",
            "|2016-07-19 00:00:...|00:00:00|\n",
            "+--------------------+--------+\n",
            "only showing top 20 rows\n",
            "\n",
            "+--------------------+-------------+--------------------+\n",
            "|                Data|Dia_da_Semana|             Feriado|\n",
            "+--------------------+-------------+--------------------+\n",
            "|2001-01-01 00:00:...|segunda-feira|Confraternização ...|\n",
            "|2001-02-26 00:00:...|segunda-feira|            Carnaval|\n",
            "|2001-02-27 00:00:...|  terça-feira|            Carnaval|\n",
            "|2001-04-13 00:00:...|  sexta-feira|    Paixão de Cristo|\n",
            "|2001-04-21 00:00:...|       sábado|          Tiradentes|\n",
            "|2001-05-01 00:00:...|  terça-feira|     Dia do Trabalho|\n",
            "|2001-06-14 00:00:...| quinta-feira|      Corpus Christi|\n",
            "|2001-09-07 00:00:...|  sexta-feira|Independência do ...|\n",
            "|2001-10-12 00:00:...|  sexta-feira|Nossa Sr.a Aparec...|\n",
            "|2001-11-02 00:00:...|  sexta-feira|             Finados|\n",
            "|2001-11-15 00:00:...| quinta-feira|Proclamação da Re...|\n",
            "|2001-12-25 00:00:...|  terça-feira|               Natal|\n",
            "|2002-01-01 00:00:...|  terça-feira|Confraternização ...|\n",
            "|2002-02-11 00:00:...|segunda-feira|            Carnaval|\n",
            "|2002-02-12 00:00:...|  terça-feira|            Carnaval|\n",
            "|2002-03-29 00:00:...|  sexta-feira|    Paixão de Cristo|\n",
            "|2002-04-21 00:00:...|      domingo|          Tiradentes|\n",
            "|2002-05-01 00:00:...| quarta-feira|     Dia do Trabalho|\n",
            "|2002-05-30 00:00:...| quinta-feira|      Corpus Christi|\n",
            "|2002-09-07 00:00:...|       sábado|Independência do ...|\n",
            "+--------------------+-------------+--------------------+\n",
            "only showing top 20 rows\n",
            "\n",
            "+---+----------+----------+--------------------+---+----+-----------------+\n",
            "|mes|     marca|    modelo|              versao|dia| ano|              vin|\n",
            "+---+----------+----------+--------------------+---+----+-----------------+\n",
            "|  1|   PEUGEOT|      2008|2008 BLUE HDI 130...|  6|2022|VR3UDYHZSNJ526248|\n",
            "|  1| CHEVROLET|      SAIL|            SAIL 1.5|  6|2022|LSGHD52H3ND024627|\n",
            "|  1|   PEUGEOT|   PARTNER|         PARTNER 1.6|  4|2022|VR3EF9HPANJ531887|\n",
            "|  1| CHEVROLET|   CAPTIVA|     CAPTIVA 1.5 AUT| 24|2022|LZWADAGA7NB024303|\n",
            "|  1| CHEVROLET|  N400 MAX|        N400 MAX 1.5|  3|2022|LZWCDAGA3NC807556|\n",
            "|  1|      FORD|NEW RANGER|   RANGER RAPTOR 2.0|  6|2022|MPBUR2366NX359311|\n",
            "|  1| CHEVROLET|    GROOVE|      GROOVE LTZ 1.5|  3|2022|LZWADAGA8NG006685|\n",
            "|  1| CHEVROLET|    GROOVE|      GROOVE LTZ 1.5|  3|2022|LZWADAGA2NG005841|\n",
            "|  1| CHEVROLET|    GROOVE|      GROOVE LTZ 1.5|  3|2022|LZWADAGA7NG006144|\n",
            "|  1| CHEVROLET|    GROOVE|  GROOVE PREMIER 1.5|  3|2022|LZWADAGA1NG007063|\n",
            "|  1|   PEUGEOT|      2008|2008 PURETECH 130...|  3|2022|VR3USHNSSNJ525794|\n",
            "|  1| CHEVROLET|   CAPTIVA| CAPTIVA MT6 4X2 1.5| 24|2022|LZWADAGA6NB027919|\n",
            "|  1| CHEVROLET|   CAPTIVA|     CAPTIVA MT6 1.5| 13|2022|LZWADAGAXNB027826|\n",
            "|  1|   PEUGEOT|       208| 208 PURETECH 75 1.2|  4|2022|VR3UPHMGBNT002023|\n",
            "|  1|   PEUGEOT|       208| 208 PURETECH 75 1.2|  6|2022|VR3UPHMGBNT001380|\n",
            "|  1|   HYUNDAI|  ATOS AH2|            ATOS 1.1|  6|2022|MALAF51CANM163805|\n",
            "|  1|   HYUNDAI|ACCENT HCI|      ACCENT HCI 1.4|  6|2022|MALC741BAMM296216|\n",
            "|  1| CHEVROLET|  N400 MAX|        N400 MAX 1.5|  3|2022|LZWCDAGA5NC807509|\n",
            "|  1|   PEUGEOT|      2008|2008 PURETECH 130...|  4|2022|VR3USHNSSNJ526477|\n",
            "|  1|VOLKSWAGEN|    VOYAGE|          VOYAGE 1.6| 14|2022|9BWDB45U1NT092231|\n",
            "+---+----------+----------+--------------------+---+----+-----------------+\n",
            "only showing top 20 rows\n",
            "\n"
          ]
        }
      ],
      "source": [
        "df_calendario.show()\n",
        "df_feriados.show()\n",
        "df_detran_m.show()"
      ]
    },
    {
      "cell_type": "markdown",
      "metadata": {
        "id": "u1s_3hVvIvzJ"
      },
      "source": [
        "2. Tratar os dados das tabelas de calendário e feriados nacionais"
      ]
    },
    {
      "cell_type": "code",
      "execution_count": null,
      "metadata": {
        "id": "Tjs0tJpUErOE",
        "colab": {
          "base_uri": "https://localhost:8080/"
        },
        "outputId": "5a1e5186-0eb6-4cd0-df1f-491cee7c383a"
      },
      "outputs": [
        {
          "output_type": "stream",
          "name": "stdout",
          "text": [
            "+-----------+-------------+--------------------+\n",
            "|       Data|Dia_da_Semana|             Feriado|\n",
            "+-----------+-------------+--------------------+\n",
            "|2001-01-01 |segunda-feira|Confraternização ...|\n",
            "|2001-02-26 |segunda-feira|            Carnaval|\n",
            "|2001-02-27 |  terça-feira|            Carnaval|\n",
            "|2001-04-13 |  sexta-feira|    Paixão de Cristo|\n",
            "|2001-04-21 |       sábado|          Tiradentes|\n",
            "|2001-05-01 |  terça-feira|     Dia do Trabalho|\n",
            "|2001-06-14 | quinta-feira|      Corpus Christi|\n",
            "|2001-09-07 |  sexta-feira|Independência do ...|\n",
            "|2001-10-12 |  sexta-feira|Nossa Sr.a Aparec...|\n",
            "|2001-11-02 |  sexta-feira|             Finados|\n",
            "|2001-11-15 | quinta-feira|Proclamação da Re...|\n",
            "|2001-12-25 |  terça-feira|               Natal|\n",
            "|2002-01-01 |  terça-feira|Confraternização ...|\n",
            "|2002-02-11 |segunda-feira|            Carnaval|\n",
            "|2002-02-12 |  terça-feira|            Carnaval|\n",
            "|2002-03-29 |  sexta-feira|    Paixão de Cristo|\n",
            "|2002-04-21 |      domingo|          Tiradentes|\n",
            "|2002-05-01 | quarta-feira|     Dia do Trabalho|\n",
            "|2002-05-30 | quinta-feira|      Corpus Christi|\n",
            "|2002-09-07 |       sábado|Independência do ...|\n",
            "+-----------+-------------+--------------------+\n",
            "only showing top 20 rows\n",
            "\n"
          ]
        }
      ],
      "source": [
        "#padronizando formato das datas em calendario e feriado\n",
        "df_calendario_v2 = df_calendario.select(to_date(df_calendario.column1).alias('Data_calendario')).collect() # transformando coluna \"column1\" em data e renomeando\n",
        "df_feriados_v2 = df_feriados.withColumn(\"Data\", regexp_replace(col(\"Data\"),\"00:00:00.0000000\",\"\")) # tirando parte da informação da coluna data\n",
        "#df_feriados_v2 = df_feriados_v2.select(to_date(df_feriados_v2.Data).alias('Data')).collect()\n",
        "\n",
        "#df_calendario_v2.show()\n",
        "df_feriados_v2.show()"
      ]
    },
    {
      "cell_type": "markdown",
      "metadata": {
        "id": "pnxUXKdkI8XF"
      },
      "source": [
        "# **Parte 2**"
      ]
    },
    {
      "cell_type": "markdown",
      "metadata": {
        "id": "-DbdbDKUJZz_"
      },
      "source": [
        "1. Precisamos criar uma coluna na tabela DETRANMENSAL que contenha a data completa"
      ]
    },
    {
      "cell_type": "code",
      "execution_count": null,
      "metadata": {
        "id": "rkbtOGdMErOE"
      },
      "outputs": [],
      "source": [
        "# juntando colunas dia, mes, ano. E criando uma nova coluna para data\n",
        "df_detran_m_v2 = df_detran_m.withColumn(\"Data\", concat(col(\"ano\"),lit(\"-\"),col(\"mes\"),lit(\"-\"), col(\"dia\") )).drop(\"dia\").drop(\"ano\").drop(\"mes\") # da para fazer itens 1 e 2 juntos com select()\n",
        "\n",
        "# transformando a coluna em tipo data pra ficar mais correta\n",
        "df_detran_m_v2 = df_detran_m_v2.withColumn(\"Data\", to_date(df_detran_m_v2.Data))"
      ]
    },
    {
      "cell_type": "markdown",
      "metadata": {
        "id": "d0o6qqBcJ2Rk"
      },
      "source": [
        "2. Devemos ter apenas as seguintes colunas na DETRANMENSAL: MARCA, MODELO, DATA e VIN"
      ]
    },
    {
      "cell_type": "code",
      "execution_count": null,
      "metadata": {
        "id": "-xDvLATzJ3d2",
        "colab": {
          "base_uri": "https://localhost:8080/"
        },
        "outputId": "796c49fe-5c8b-4a8d-fc4c-bc87d499490b"
      },
      "outputs": [
        {
          "output_type": "stream",
          "name": "stdout",
          "text": [
            "+----------+----------+-----------------+----------+\n",
            "|     marca|    modelo|              vin|      Data|\n",
            "+----------+----------+-----------------+----------+\n",
            "|   PEUGEOT|      2008|VR3UDYHZSNJ526248|2022-01-06|\n",
            "| CHEVROLET|      SAIL|LSGHD52H3ND024627|2022-01-06|\n",
            "|   PEUGEOT|   PARTNER|VR3EF9HPANJ531887|2022-01-04|\n",
            "| CHEVROLET|   CAPTIVA|LZWADAGA7NB024303|2022-01-24|\n",
            "| CHEVROLET|  N400 MAX|LZWCDAGA3NC807556|2022-01-03|\n",
            "|      FORD|NEW RANGER|MPBUR2366NX359311|2022-01-06|\n",
            "| CHEVROLET|    GROOVE|LZWADAGA8NG006685|2022-01-03|\n",
            "| CHEVROLET|    GROOVE|LZWADAGA2NG005841|2022-01-03|\n",
            "| CHEVROLET|    GROOVE|LZWADAGA7NG006144|2022-01-03|\n",
            "| CHEVROLET|    GROOVE|LZWADAGA1NG007063|2022-01-03|\n",
            "|   PEUGEOT|      2008|VR3USHNSSNJ525794|2022-01-03|\n",
            "| CHEVROLET|   CAPTIVA|LZWADAGA6NB027919|2022-01-24|\n",
            "| CHEVROLET|   CAPTIVA|LZWADAGAXNB027826|2022-01-13|\n",
            "|   PEUGEOT|       208|VR3UPHMGBNT002023|2022-01-04|\n",
            "|   PEUGEOT|       208|VR3UPHMGBNT001380|2022-01-06|\n",
            "|   HYUNDAI|  ATOS AH2|MALAF51CANM163805|2022-01-06|\n",
            "|   HYUNDAI|ACCENT HCI|MALC741BAMM296216|2022-01-06|\n",
            "| CHEVROLET|  N400 MAX|LZWCDAGA5NC807509|2022-01-03|\n",
            "|   PEUGEOT|      2008|VR3USHNSSNJ526477|2022-01-04|\n",
            "|VOLKSWAGEN|    VOYAGE|9BWDB45U1NT092231|2022-01-14|\n",
            "+----------+----------+-----------------+----------+\n",
            "only showing top 20 rows\n",
            "\n"
          ]
        }
      ],
      "source": [
        "# tirando coluna versao\n",
        "df_detran_m_v2 = df_detran_m_v2.drop(\"versao\")\n",
        "\n",
        "df_detran_m_v2.show()"
      ]
    },
    {
      "cell_type": "markdown",
      "metadata": {
        "id": "9XZEjCroJ8ih"
      },
      "source": [
        "3. Queremos saber como foi a venda dos carros da marca PEUGEOUT durante os meses"
      ]
    },
    {
      "cell_type": "code",
      "execution_count": null,
      "metadata": {
        "id": "GXctW9vtErOF",
        "colab": {
          "base_uri": "https://localhost:8080/"
        },
        "outputId": "53515c44-d447-4af9-951e-84ee5503f37b"
      },
      "outputs": [
        {
          "output_type": "execute_result",
          "data": {
            "text/plain": [
              "44653"
            ]
          },
          "metadata": {},
          "execution_count": 11
        }
      ],
      "source": [
        "df_detran_m_v2.count()"
      ]
    },
    {
      "cell_type": "code",
      "execution_count": null,
      "metadata": {
        "id": "FdbX4GLjErOF",
        "colab": {
          "base_uri": "https://localhost:8080/"
        },
        "outputId": "f810efb1-43a5-468a-e75d-8d2f0ef3f86a"
      },
      "outputs": [
        {
          "output_type": "execute_result",
          "data": {
            "text/plain": [
              "44653"
            ]
          },
          "metadata": {},
          "execution_count": 12
        }
      ],
      "source": [
        "df_detran_m_v2.dropDuplicates()\n",
        "df_detran_m_v2.distinct()\n",
        "df_detran_m_v2.count() # contagem antes e depois para verificar mudança"
      ]
    },
    {
      "cell_type": "code",
      "execution_count": null,
      "metadata": {
        "id": "UY9WjWarErOG",
        "colab": {
          "base_uri": "https://localhost:8080/"
        },
        "outputId": "83b117f7-6130-4e9c-dc21-4d11db2cc5fb"
      },
      "outputs": [
        {
          "output_type": "stream",
          "name": "stdout",
          "text": [
            "+---+-----+\n",
            "|mes|count|\n",
            "+---+-----+\n",
            "|  1| 1499|\n",
            "|  2| 1195|\n",
            "|  3|  664|\n",
            "|  4|  870|\n",
            "|  5|  573|\n",
            "|  6|  723|\n",
            "|  7| 1008|\n",
            "|  8|  909|\n",
            "+---+-----+\n",
            "\n"
          ]
        }
      ],
      "source": [
        "# venda dos carros da marca PEUGEOUT durante os meses\n",
        "vendas_peugeout = df_detran_m_v2.where(col(\"marca\") == \"PEUGEOT\") # pegando apenas marcas da PEUGEOUT\n",
        "vendas_peugeout_mes = vendas_peugeout.select( \"marca\", month('Data').alias('mes')) # pegando o mes da coluna data\n",
        "vendas_peugeout_mes_count = vendas_peugeout_mes.groupBy(vendas_peugeout_mes.mes).count()\n",
        "vendas_peugeout_mes_count.sort(asc(\"mes\")).show()\n"
      ]
    },
    {
      "cell_type": "markdown",
      "metadata": {
        "id": "syWcYtO_KCQq"
      },
      "source": [
        "4. Os modelos de veículo: GOL e HILUX estão incorretos. Na verdade, deveriam ser respectivamente UP e SW4;"
      ]
    },
    {
      "cell_type": "code",
      "execution_count": null,
      "metadata": {
        "id": "KmvQiv9XFg-2",
        "colab": {
          "base_uri": "https://localhost:8080/"
        },
        "outputId": "ef6d237f-6b8f-4ded-fa77-120955b18803"
      },
      "outputs": [
        {
          "output_type": "stream",
          "name": "stdout",
          "text": [
            "[{'GOL': 947, 'HILUX': 2265, 'UP': 0, 'SW4': 0}]\n"
          ]
        }
      ],
      "source": [
        "df_detran_m_v3 = df_detran_m_v2\n",
        "GOL = df_detran_m_v3.where(col(\"modelo\")==\"GOL\").count()\n",
        "HILUX = df_detran_m_v3.where(col(\"modelo\")==\"HILUX\").count()\n",
        "UP = df_detran_m_v3.where(col(\"modelo\")==\"UP\").count()\n",
        "SW4 = df_detran_m_v3.where(col(\"modelo\")==\"SW4\").count()\n",
        "\n",
        "modelo_count = [{'GOL': GOL, 'HILUX': HILUX,'UP':UP,'SW4':SW4}]\n",
        "print(modelo_count)"
      ]
    },
    {
      "cell_type": "code",
      "execution_count": null,
      "metadata": {
        "id": "nNBxnbIbuGwT"
      },
      "outputs": [],
      "source": [
        "df_detran_m_v3 = df_detran_m_v3.withColumn(\"modelo\",regexp_replace(col(\"modelo\"),\"GOL\",\"UP\"))\n",
        "df_detran_m_v3 = df_detran_m_v3.withColumn(\"modelo\",regexp_replace(col(\"modelo\"),\"HILUX\",\"SW4\"))\n"
      ]
    },
    {
      "cell_type": "code",
      "execution_count": null,
      "metadata": {
        "id": "utsYdboDJQkS",
        "colab": {
          "base_uri": "https://localhost:8080/"
        },
        "outputId": "a3155339-876d-4c3c-81eb-4447a6f267aa"
      },
      "outputs": [
        {
          "output_type": "stream",
          "name": "stdout",
          "text": [
            "[{'GOL': 947, 'HILUX': 2265, 'UP': 0, 'SW4': 0}]\n"
          ]
        }
      ],
      "source": [
        "print(modelo_count)"
      ]
    },
    {
      "cell_type": "markdown",
      "metadata": {
        "id": "9ZIOpWxIKEsR"
      },
      "source": [
        "5. Por se tratar de uma empresa de outro país, não consideram os feriados de CARNAVAL, INDEPÊNDENCIA DO BRASIL e NOSSA SENHORA APARECIDA."
      ]
    },
    {
      "cell_type": "code",
      "execution_count": null,
      "metadata": {
        "id": "dL0KhGDcRhGL",
        "colab": {
          "base_uri": "https://localhost:8080/"
        },
        "outputId": "9c27f2fd-2817-4ac6-f9e5-7b8844a58da5"
      },
      "outputs": [
        {
          "output_type": "stream",
          "name": "stdout",
          "text": [
            "Tiradentes\n",
            "Proclamação da República\n",
            "Nossa Sr.a Aparecida - Padroeira do Brasil\n",
            "Dia do Trabalho\n",
            "Corpus Christi\n",
            "Natal\n",
            "Confraternização Universal\n",
            "Carnaval\n",
            "Independência do Brasil\n",
            "Paixão de Cristo\n",
            "Finados\n"
          ]
        }
      ],
      "source": [
        "valores_feriado = df_feriados_v2.select(col(\"Feriado\")).distinct().collect()\n",
        "for valor in valores_feriado:\n",
        "    print(valor[0])"
      ]
    },
    {
      "cell_type": "code",
      "execution_count": null,
      "metadata": {
        "id": "PzUcWqqJRyqF",
        "colab": {
          "base_uri": "https://localhost:8080/"
        },
        "outputId": "d9970ffc-76ad-4c27-a987-b244a9f95af9"
      },
      "outputs": [
        {
          "output_type": "execute_result",
          "data": {
            "text/plain": [
              "936"
            ]
          },
          "metadata": {},
          "execution_count": 18
        }
      ],
      "source": [
        "df_feriados_v2.count()"
      ]
    },
    {
      "cell_type": "code",
      "execution_count": null,
      "metadata": {
        "id": "OjxWFCYoR5Om",
        "colab": {
          "base_uri": "https://localhost:8080/"
        },
        "outputId": "0f442a4a-85dc-4fcf-ee9d-2177d0485e17"
      },
      "outputs": [
        {
          "output_type": "execute_result",
          "data": {
            "text/plain": [
              "624"
            ]
          },
          "metadata": {},
          "execution_count": 19
        }
      ],
      "source": [
        "df_feriados_v3 = df_feriados_v2.where((col(\"Feriado\") != \"Carnaval\") &\n",
        "                                     (col(\"Feriado\") != \"Independência do Brasil\") &\n",
        "                                     (col(\"Feriado\") != \"Nossa Sr.a Aparecida - Padroeira do Brasil\"))\n",
        "df_feriados_v3.count()"
      ]
    },
    {
      "cell_type": "code",
      "source": [
        "# Fazer um join da base de detran com a base de calendário (aqui vamos querer que o dataframe final contenha todos os dias que estão cadastrados na base calendário);\n",
        "\n",
        "teste = df_detran_m_v3.join(df_feriados_v3, df_detran_m_v3.Data == df_feriados_v3.Data, 'outer').concat()"
      ],
      "metadata": {
        "id": "VqCxMH8iLUuI"
      },
      "execution_count": null,
      "outputs": []
    },
    {
      "cell_type": "code",
      "source": [
        "teste2 = df_detran_m_v3.join(df_feriados_v3, df_detran_m_v3.Data == df_feriados_v3.Data, 'outer').select(\n",
        "    df_detran_m_v3.Data, df_detran_m_v3.marca, df_feriados_v3.Feriado)"
      ],
      "metadata": {
        "id": "75oJEz-znpG9"
      },
      "execution_count": null,
      "outputs": []
    },
    {
      "cell_type": "code",
      "source": [
        "teste2.show()"
      ],
      "metadata": {
        "colab": {
          "base_uri": "https://localhost:8080/"
        },
        "id": "kHY439qfogSZ",
        "outputId": "0936f56c-a60e-44e6-c0f4-ac09e681f131"
      },
      "execution_count": null,
      "outputs": [
        {
          "output_type": "stream",
          "name": "stdout",
          "text": [
            "+----------+---------+--------------------+\n",
            "|      Data|    marca|             Feriado|\n",
            "+----------+---------+--------------------+\n",
            "|      null|     null|               Natal|\n",
            "|      null|     null|Proclamação da Re...|\n",
            "|2022-03-28|CHEVROLET|                null|\n",
            "|2022-03-28|CHEVROLET|                null|\n",
            "|2022-03-28|CHEVROLET|                null|\n",
            "|2022-03-28|CHEVROLET|                null|\n",
            "|2022-03-28|CHEVROLET|                null|\n",
            "|2022-03-28|CHEVROLET|                null|\n",
            "|2022-03-28|CHEVROLET|                null|\n",
            "|2022-03-28|CHEVROLET|                null|\n",
            "|2022-03-28|CHEVROLET|                null|\n",
            "|2022-03-28|CHEVROLET|                null|\n",
            "|2022-03-28|   TOYOTA|                null|\n",
            "|2022-03-28|  HYUNDAI|                null|\n",
            "|2022-03-28|  HYUNDAI|                null|\n",
            "|2022-03-28|  HYUNDAI|                null|\n",
            "|2022-03-28|  PEUGEOT|                null|\n",
            "|2022-03-28|CHEVROLET|                null|\n",
            "|2022-03-28|CHEVROLET|                null|\n",
            "|2022-03-28|  PEUGEOT|                null|\n",
            "+----------+---------+--------------------+\n",
            "only showing top 20 rows\n",
            "\n"
          ]
        }
      ]
    },
    {
      "cell_type": "code",
      "source": [
        "teste.show()"
      ],
      "metadata": {
        "colab": {
          "base_uri": "https://localhost:8080/"
        },
        "id": "JqrPZzejnOFl",
        "outputId": "1740ec3e-4426-4b9b-d1d5-70c4bcc79994"
      },
      "execution_count": null,
      "outputs": [
        {
          "output_type": "stream",
          "name": "stdout",
          "text": [
            "+---------+-----------+-----------------+----------+-----------+-------------+--------------------+\n",
            "|    marca|     modelo|              vin|      Data|       Data|Dia_da_Semana|             Feriado|\n",
            "+---------+-----------+-----------------+----------+-----------+-------------+--------------------+\n",
            "|     null|       null|             null|      null|2002-12-25 | quarta-feira|               Natal|\n",
            "|     null|       null|             null|      null|2007-11-15 | quinta-feira|Proclamação da Re...|\n",
            "|CHEVROLET|   N400 MAX|LZWCDAGA2NC811162|2022-03-28|       null|         null|                null|\n",
            "|CHEVROLET|   N400 MAX|LZWCDAGA8NC812123|2022-03-28|       null|         null|                null|\n",
            "|CHEVROLET|   N400 MAX|LZWCDAGA7NC812016|2022-03-28|       null|         null|                null|\n",
            "|CHEVROLET|   N400 MAX|LZWCDAGA4NC811065|2022-03-28|       null|         null|                null|\n",
            "|CHEVROLET|   N400 MAX|LZWCDAGA0NC812116|2022-03-28|       null|         null|                null|\n",
            "|CHEVROLET|   N400 MAX|LZWCDAGA8NC811148|2022-03-28|       null|         null|                null|\n",
            "|CHEVROLET|   N400 MAX|LZWCDAGA8NC807763|2022-03-28|       null|         null|                null|\n",
            "|CHEVROLET|   N400 MAX|LZWCDAGA0NC811015|2022-03-28|       null|         null|                null|\n",
            "|CHEVROLET|   N400 MAX|LZWCDAGA2NC811176|2022-03-28|       null|         null|                null|\n",
            "|CHEVROLET|   N400 MAX|LZWCDAGA6NC811150|2022-03-28|       null|         null|                null|\n",
            "|   TOYOTA|       RAV4|JTMZ43FVXND111493|2022-03-28|       null|         null|                null|\n",
            "|  HYUNDAI|SANTA FE TM|KMHS381HHMU416228|2022-03-28|       null|         null|                null|\n",
            "|  HYUNDAI| ACCENT HCI|MALC741BANM311379|2022-03-28|       null|         null|                null|\n",
            "|  HYUNDAI|   ATOS AH2|MALAF51CANM174030|2022-03-28|       null|         null|                null|\n",
            "|  PEUGEOT|        301|VF3DD9HP0PJ504095|2022-03-28|       null|         null|                null|\n",
            "|CHEVROLET|   N400 MAX|LZWCDAGA7NC811285|2022-03-28|       null|         null|                null|\n",
            "|CHEVROLET|   N400 MAX|LZWCDAGAXNC811054|2022-03-28|       null|         null|                null|\n",
            "|  PEUGEOT|    PARTNER|VR3EF9HPAPJ503404|2022-03-28|       null|         null|                null|\n",
            "+---------+-----------+-----------------+----------+-----------+-------------+--------------------+\n",
            "only showing top 20 rows\n",
            "\n"
          ]
        }
      ]
    }
  ],
  "metadata": {
    "application/vnd.databricks.v1+notebook": {
      "dashboards": [],
      "language": "python",
      "notebookMetadata": {
        "pythonIndentUnit": 4
      },
      "notebookName": "Tratamento de dados",
      "widgets": {}
    },
    "colab": {
      "provenance": [],
      "include_colab_link": true
    },
    "kernelspec": {
      "display_name": "Python 3",
      "name": "python3"
    },
    "language_info": {
      "name": "python"
    }
  },
  "nbformat": 4,
  "nbformat_minor": 0
}